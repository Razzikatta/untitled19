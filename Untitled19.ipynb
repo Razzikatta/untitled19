{
 "cells": [
  {
   "cell_type": "code",
   "execution_count": 1,
   "id": "93ec777f",
   "metadata": {},
   "outputs": [],
   "source": [
    "import pandas as pd"
   ]
  },
  {
   "cell_type": "code",
   "execution_count": 2,
   "id": "3371f951",
   "metadata": {},
   "outputs": [],
   "source": [
    "starwars = pd.read_csv('./characters.csv')"
   ]
  },
  {
   "cell_type": "code",
   "execution_count": 3,
   "id": "fffe5336",
   "metadata": {},
   "outputs": [],
   "source": [
    "def show_data():\n",
    "    \n",
    "    row = 0\n",
    "    while True:\n",
    "        view_row_data = input(\"would you like to view some data? reply yes or no.\\n\").lower()\n",
    "        if view_row_data == 'yes':\n",
    "            print(starwars.iloc[row : row + 4])\n",
    "            row += 4\n",
    "        elif view_row_data == 'no':\n",
    "            break\n",
    "        else:\n",
    "            print(\"This is not a valid input Karen, just choose yes / no\")"
   ]
  },
  {
   "cell_type": "code",
   "execution_count": 4,
   "id": "0d559cb4",
   "metadata": {},
   "outputs": [],
   "source": [
    "def get_filters():\n",
    "    \n",
    "    character = ('Darth Vader')\n",
    "    while True:\n",
    "        CHARACTERS=input(\"Which character would you like to see the data for? \")\n",
    "        if character in CHARACTERS:\n",
    "            print(\"        Loading...\")\n",
    "            print(\"               We don't really know how to code that, we were just being nice\")\n",
    "            break\n",
    "        else:\n",
    "            print(\"     We only got Darth Vader dude\")\n",
    "            \n",
    "    return character"
   ]
  },
  {
   "cell_type": "code",
   "execution_count": 5,
   "id": "2f94ac4b",
   "metadata": {
    "scrolled": true
   },
   "outputs": [
    {
     "name": "stdout",
     "output_type": "stream",
     "text": [
      "OK, we ready\n",
      "So, let's explore!!\n",
      "LOL LOL LOL LOL LOL LOL LOL LOL LOL LOL LOL LOL LOL LOL LOL LOL LOL LOL LOL LOL \n"
     ]
    }
   ],
   "source": [
    "print(\"OK, we ready\")\n",
    "print(\"So, let's explore!!\")\n",
    "print('LOL '*20)"
   ]
  },
  {
   "cell_type": "code",
   "execution_count": 6,
   "id": "1978da72",
   "metadata": {},
   "outputs": [
    {
     "name": "stdout",
     "output_type": "stream",
     "text": [
      "Enter your name: nm\n",
      "Hello there, Nm! What's your pronoun??\n"
     ]
    }
   ],
   "source": [
    "name = input(\"Enter your name: \")\n",
    "print(\"Hello there, {}!\".format(name.title()), \"What's your pronoun??\")"
   ]
  },
  {
   "cell_type": "code",
   "execution_count": 8,
   "id": "3ac91359",
   "metadata": {},
   "outputs": [
    {
     "name": "stdout",
     "output_type": "stream",
     "text": [
      "Which character would you like to see the data for? Darth Vader\n",
      "        Loading...\n",
      "               We don't really know how to code that, we were just being nice\n",
      "would you like to view some data? reply yes or no.\n",
      "no\n",
      "\n",
      "Would you like to start over? enter \"yes\" or \"no\".\n",
      "no\n"
     ]
    }
   ],
   "source": [
    "def main():\n",
    "    while True:\n",
    "        characters = get_filters()\n",
    "        show_data()\n",
    "\n",
    "        restart = input('\\nWould you like to start over? enter \"yes\" or \"no\".\\n')\n",
    "        if restart.lower() != 'yes':\n",
    "            break\n",
    "\n",
    "if __name__ == \"__main__\":\n",
    "\tmain()"
   ]
  },
  {
   "cell_type": "code",
   "execution_count": 9,
   "id": "dea303a4",
   "metadata": {},
   "outputs": [
    {
     "name": "stdout",
     "output_type": "stream",
     "text": [
      "Here's your certificate\n",
      "          (   )\n",
      "          |   |\n",
      "          |   |\n",
      "        __|   |__\n",
      "     __(  )  _(__)___\n",
      "    (  )   |(        )\n",
      "    |   |  |______    |\n",
      "    |\\  |  |  |  |    |\n",
      "    | '-\\__'  '--'   |\n",
      "    \\               /\n",
      "     \\             /\n",
      "      |            |\n"
     ]
    }
   ],
   "source": [
    "print(\"Here's your certificate\")\n",
    "print(\"          (   )\")\n",
    "print(\"          |   |\")\n",
    "print(\"          |   |\")\n",
    "print(\"        __|   |__\")\n",
    "print(\"     __(  )  _(__)___\")\n",
    "print(\"    (  )   |(        )\")\n",
    "print(\"    |   |  |______    |\")\n",
    "print(\"    |\\  |  |  |  |    |\")\n",
    "print(\"    | '-\\__'  '--'   |\")\n",
    "print(\"    \\               /\")\n",
    "print(\"     \\             /\")\n",
    "print(\"      |            |\")\n"
   ]
  },
  {
   "cell_type": "code",
   "execution_count": 10,
   "id": "55a9bf2f",
   "metadata": {},
   "outputs": [
    {
     "name": "stdout",
     "output_type": "stream",
     "text": [
      "May the force be with you ❤️\n"
     ]
    }
   ],
   "source": [
    "print('May the force be with you ❤️')"
   ]
  }
 ],
 "metadata": {
  "kernelspec": {
   "display_name": "Python 3 (ipykernel)",
   "language": "python",
   "name": "python3"
  },
  "language_info": {
   "codemirror_mode": {
    "name": "ipython",
    "version": 3
   },
   "file_extension": ".py",
   "mimetype": "text/x-python",
   "name": "python",
   "nbconvert_exporter": "python",
   "pygments_lexer": "ipython3",
   "version": "3.9.12"
  }
 },
 "nbformat": 4,
 "nbformat_minor": 5
}
